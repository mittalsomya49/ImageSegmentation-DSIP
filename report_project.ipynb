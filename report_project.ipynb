{
 "cells": [
  {
   "cell_type": "markdown",
   "metadata": {},
   "source": [
    "# what is Image Segmentation??"
   ]
  },
  {
   "cell_type": "raw",
   "metadata": {},
   "source": [
    "image segmentation is the process of partitioning a digital image into multiple segments (sets of pixels)\n",
    "used for:\n",
    "     1.Image compression\n",
    "     2.Object Recognition\n",
    "     3.database look-up\n",
    "     4.fingerprint recognition\n"
   ]
  },
  {
   "cell_type": "markdown",
   "metadata": {},
   "source": [
    "# Existing image Segmentation methods"
   ]
  },
  {
   "cell_type": "raw",
   "metadata": {},
   "source": [
    "1.Graph Based Image Segmentation\n",
    "2.Binary Histogram Segmentation\n",
    "3.Region-based Segmentation\n",
    "4.K-means Clustering Algorithm(Based on Clustering)\n",
    "5.Ede detection Segmentation"
   ]
  },
  {
   "cell_type": "markdown",
   "metadata": {},
   "source": [
    " # k-means clustering Algorithm"
   ]
  },
  {
   "cell_type": "raw",
   "metadata": {},
   "source": [
    "Initialize the centroids\n",
    "• Compute the distance between each point and the centroids\n",
    "• Associate each point with the closest centroid\n",
    "• Update the centroids with the new groups"
   ]
  },
  {
   "cell_type": "markdown",
   "metadata": {},
   "source": [
    "# Evaluation of result demo"
   ]
  },
  {
   "cell_type": "code",
   "execution_count": null,
   "metadata": {},
   "outputs": [],
   "source": [
    "import numpy as np\n",
    "import cv2\n",
    "from sklearn.mixture import GaussianMixture as GMM\n",
    "import glob\n",
    "import skimage.color as color\n",
    "import matplotlib.pyplot as plt\n",
    "\n",
    "image = plt.imread(\"input images/210088.jpg\")\n",
    "\n",
    "#Convert MxNx3 image into Kx3 where K=MxN\n",
    "img2 = image.reshape((-1,3))\n",
    "\n",
    "#covariance choices, full, tied, diag, spherical\n",
    "gmm_model = GMM(n_components=5,covariance_type='full').fit(img2)\n",
    "segments= gmm_model.predict(img2)\n",
    "segmented = segments.reshape(image.shape[0], image.shape[1])\n",
    "plt.imshow(segmented)\n",
    "plt.show()\n",
    "img1 = color.label2rgb(segmented, image, kind='avg');\n",
    "\n",
    "\n",
    "plt.imshow(img1)\n",
    "plt.show()\n",
    "\n"
   ]
  },
  {
   "cell_type": "markdown",
   "metadata": {},
   "source": [
    "# Coclusion"
   ]
  },
  {
   "cell_type": "raw",
   "metadata": {},
   "source": [
    "1.Image Segmentation Simplifies represntation for post processing like image tracking,image editing etc.\n",
    "2. k-means algorithm runs in linear time due to better heuristics.\n",
    "3. K-means algorithm's performance depends on the segments/partitons\n",
    "4.Image Segmentation ectensively used in medical field for cancer treatment and tumour detection"
   ]
  },
  {
   "cell_type": "markdown",
   "metadata": {},
   "source": [
    "# Refrence"
   ]
  },
  {
   "cell_type": "raw",
   "metadata": {},
   "source": [
    "1..Image Segmentation Algorithms Overview\n",
    "Song Yuheng1,Yan Hao1"
   ]
  }
 ],
 "metadata": {
  "kernelspec": {
   "display_name": "Python 3",
   "language": "python",
   "name": "python3"
  },
  "language_info": {
   "codemirror_mode": {
    "name": "ipython",
    "version": 3
   },
   "file_extension": ".py",
   "mimetype": "text/x-python",
   "name": "python",
   "nbconvert_exporter": "python",
   "pygments_lexer": "ipython3",
   "version": "3.7.6"
  }
 },
 "nbformat": 4,
 "nbformat_minor": 1
}
